{
 "cells": [
  {
   "attachments": {},
   "cell_type": "markdown",
   "metadata": {},
   "source": [
    "#### 实验二 猫狗分类\n",
    "|姓名|石钧予|学号|2022E8013282111|培养单位|计算技术研究所|\n",
    "|---|---|---|---|---|---|\n",
    "- 实验目的\n",
    "  1. 进一步理解和掌握卷积神经网络中卷积层、卷积步长、卷积核、池化层、池\n",
    "化核、微调(Fine-tune)等概念。\n",
    "  2. 进一步掌握使用深度学习框架进行图像分类任务的具体流程：如读取数据、\n",
    "构造网络、训练和测试模型等等。\n",
    "- 实验要求\n",
    "  - 原则上要求人为划分的数据集中，训练\n",
    "集图像总数不少于 2000 张，测试集图像总数不少于大于 500，最终模型的\n",
    "准确率要求不低于 75%。\n",
    "  - 基于 Python 语言和任意一种深度学习框架，从零开始一步步完成数据读取、网络构建、模型训练和模型\n",
    "测试等过程，最终实现一个可以进行猫狗图像分类的分类器。\n",
    "  - 按规定时间在课程网站提交实验报告、代码以及 PPT。\n",
    "- 实验结果\n",
    "  - \n",
    "- 实验过程"
   ]
  },
  {
   "cell_type": "code",
   "execution_count": 1,
   "metadata": {},
   "outputs": [],
   "source": [
    "import os\n",
    "import torch\n",
    "import random\n",
    "import numpy as np\n",
    "from torch import nn\n",
    "from PIL import Image\n",
    "from torchvision import transforms\n",
    "from torch.utils.data import DataLoader, Dataset\n",
    "torch.cuda.empty_cache() # 清除 cache"
   ]
  },
  {
   "attachments": {},
   "cell_type": "markdown",
   "metadata": {},
   "source": [
    "- 数据预处理\n",
    "  - 数据集：Kaggle猫狗分类实验数据集\n",
    "  - 数据增强：使用transform对训练集进行缩放、裁剪、旋转、归一化\n",
    "  - 数据划分：使用torch.utils.data.random_split进行数据集&测试集切分"
   ]
  },
  {
   "cell_type": "code",
   "execution_count": 2,
   "metadata": {},
   "outputs": [],
   "source": [
    "class DogCatDataset(Dataset):\n",
    "    def __init__(self, data_dir_path, training=True):\n",
    "        self.data_dir_path = data_dir_path\n",
    "        self.file_list = [os.path.join(data_dir_path, file)\n",
    "                          for file in os.listdir(data_dir_path)]\n",
    "        self.training = training\n",
    "\n",
    "        # 数据增强操作\n",
    "        self.transform = transforms.Compose([\n",
    "            transforms.Resize((128, 128)),\n",
    "            transforms.RandomHorizontalFlip(),\n",
    "            transforms.RandomRotation(10),\n",
    "            transforms.ToTensor(),\n",
    "            transforms.Normalize(mean=[0.485, 0.456, 0.406],\n",
    "                                 std=[0.229, 0.224, 0.225])\n",
    "        ])\n",
    "\n",
    "    def __getitem__(self, index):\n",
    "        # 从data_path中读取图像\n",
    "        image = Image.open(self.file_list[index])\n",
    "        # 对图像进行预处理，例如缩放、裁剪、标准化等\n",
    "        image = self.transform(image)\n",
    "        if self.training:\n",
    "            # 获取对应的标签\n",
    "            label = torch.FloatTensor(\n",
    "                [0, 1]) if 'cat' in self.file_list[index] else torch.FloatTensor([1, 0])\n",
    "            return image, label\n",
    "        else:\n",
    "            return image\n",
    "    def __len__(self):\n",
    "        return len(self.file_list)"
   ]
  },
  {
   "cell_type": "code",
   "execution_count": 4,
   "metadata": {},
   "outputs": [
    {
     "name": "stdout",
     "output_type": "stream",
     "text": [
      ">>>>>>数据预处理\n",
      "train set size :  20000\n",
      "test  set size :  5000\n"
     ]
    }
   ],
   "source": [
    "BATCH_SIZE = 64\n",
    "DATA_TRAIN_PATH = './data/DogCatData/train'\n",
    "data_set = DogCatDataset(data_dir_path=DATA_TRAIN_PATH)\n",
    "train_set, test_set = torch.utils.data.random_split(\n",
    "    data_set, [int(0.8*len(data_set)), int(0.2*len(data_set))])\n",
    "train_loader = DataLoader(train_set, BATCH_SIZE, True)\n",
    "test_loader = DataLoader(test_set, BATCH_SIZE, False)\n",
    "print('>>>>>>数据预处理')\n",
    "print('train set size : ', len(train_set))\n",
    "print('test  set size : ', len(test_set))"
   ]
  },
  {
   "attachments": {},
   "cell_type": "markdown",
   "metadata": {},
   "source": [
    "- 模型构建\n",
    "  - 残差块定义"
   ]
  },
  {
   "cell_type": "code",
   "execution_count": 16,
   "metadata": {},
   "outputs": [],
   "source": [
    "class ResidualBlock(nn.Module):\n",
    "\n",
    "    def __init__(self, in_channels, out_channels, stride=1) -> None:\n",
    "        super().__init__()\n",
    "        self.conv_1 = nn.Conv2d(\n",
    "            in_channels, out_channels, kernel_size=3, stride=stride, padding=1, bias=False)\n",
    "        self.batch_norm_1 = nn.BatchNorm2d(out_channels)\n",
    "        self.relu_1 = nn.ReLU()\n",
    "\n",
    "        self.conv_2 = nn.Conv2d(\n",
    "            out_channels, out_channels, kernel_size=3, stride=stride, padding=1, bias=False)\n",
    "        self.batch_norm_2 = nn.BatchNorm2d(out_channels)\n",
    "        self.relu_2 = nn.ReLU()\n",
    "\n",
    "        self.stride = stride\n",
    "        self.shortcut = nn.Sequential()\n",
    "\n",
    "        if stride != 1 or in_channels != out_channels:\n",
    "            self.shortcut = nn.Sequential(\n",
    "                nn.Conv2d(in_channels, out_channels, 3, 1, 1, bias=False),\n",
    "                nn.BatchNorm2d(out_channels)\n",
    "            )\n",
    "    def forward(self, input):\n",
    "        output = self.conv_1(input)\n",
    "        output = self.batch_norm_1(output)\n",
    "        output = self.relu_1(output)\n",
    "        output = self.conv_2(output)\n",
    "        output = self.batch_norm_2(output)\n",
    "        output += self.shortcut(input)\n",
    "        output = self.relu_2(output)\n",
    "        return output"
   ]
  },
  {
   "cell_type": "code",
   "execution_count": null,
   "metadata": {},
   "outputs": [],
   "source": []
  },
  {
   "cell_type": "code",
   "execution_count": 17,
   "metadata": {},
   "outputs": [],
   "source": [
    "class DogCatClassification(nn.Module):\n",
    "    def __init__(self) -> None:\n",
    "        super(DogCatClassification, self).__init__()\n",
    "\n",
    "        self.cnn = nn.Sequential(\n",
    "            nn.Conv2d(3, 64, 3, 1, 1),  # [64,128,128]\n",
    "            nn.BatchNorm2d(64),\n",
    "            nn.ReLU(),\n",
    "            nn.MaxPool2d(2, 2, 0),  # [64,64,64]\n",
    "\n",
    "            nn.Conv2d(64, 128, 3, 1, 1),  # [128,64,64]\n",
    "            nn.BatchNorm2d(128),\n",
    "            nn.ReLU(),\n",
    "            nn.MaxPool2d(2, 2, 0),  # [128,32,32]\n",
    "\n",
    "            ResidualBlock(128, 256),  # [256,32,32]\n",
    "            nn.MaxPool2d(2, 2, 0),\n",
    "            nn.Flatten()\n",
    "        )\n",
    "        self.fc = nn.Sequential(\n",
    "            nn.Linear(256*16*16, 256),\n",
    "            nn.LeakyReLU(),\n",
    "            nn.Linear(256, 128),\n",
    "            nn.LeakyReLU(),\n",
    "            nn.Linear(128, 2),\n",
    "        )\n",
    "\n",
    "    def forward(self, input):\n",
    "        cnn_ouput = self.cnn(input)\n",
    "        fc_output = self.fc(cnn_ouput)\n",
    "        return fc_output\n"
   ]
  },
  {
   "cell_type": "code",
   "execution_count": null,
   "metadata": {},
   "outputs": [],
   "source": []
  },
  {
   "cell_type": "code",
   "execution_count": 33,
   "metadata": {},
   "outputs": [],
   "source": [
    "def train(model, loss_fn, optimizer, dataloader, epochs):\n",
    "    size = len(dataloader.dataset)\n",
    "    loss_set = []\n",
    "    accuracy_set = []\n",
    "    print('>>>>>> Model Train Beginning......')\n",
    "    for idx_epoch in range(epochs):\n",
    "        print(f'Epoch : {idx_epoch + 1}\\n')\n",
    "        model.train()\n",
    "        for idx_batch, (X, y) in enumerate(dataloader):\n",
    "            X = X.cuda()\n",
    "            y = y.cuda()\n",
    "            pred = model(X)\n",
    "            loss = loss_fn(pred, y)\n",
    "            optimizer.zero_grad()\n",
    "            loss.backward()\n",
    "            optimizer.step()\n",
    "\n",
    "            if idx_batch % 100 == 0:\n",
    "                loss, current = loss.item(), (idx_batch + 1) * len(X)\n",
    "                loss_set.append(loss)\n",
    "                \n",
    "                print(f\"loss: {loss:>7f}  [{current:>5d}/{size:>5d}]\")\n",
    "\n",
    "def evaluation(model, dataloader, result_path):\n",
    "    model.eval()\n",
    "    prediction = []\n",
    "    print('>>>>>> Model Evaluation Beginning......\\n')\n",
    "    with torch.no_grad():\n",
    "        for X in dataloader:\n",
    "            X = X.cuda()\n",
    "            pred = model(X)\n",
    "            prediction += pred.argmax(dim=1).tolist()\n",
    "    print('>>>>>> Saving Result......\\n')\n",
    "    with open(result_path, 'w', encoding='utf-8') as f:\n",
    "        f.write('Id,Category\\n')\n",
    "        for idx, predict in enumerate(prediction):\n",
    "            f.write(f'{idx},{predict}\\n')\n",
    "\n",
    "\n",
    "def test(model, loss_fn, dataloader):\n",
    "    model.eval()\n",
    "    size = len(dataloader.dataset)\n",
    "    num_batches = len(dataloader)\n",
    "    test_loss, correct = 0, 0\n",
    "    print('>>>>>> Model Test Beginning......')\n",
    "    with torch.no_grad():\n",
    "        for X, y in dataloader:\n",
    "            X = X.cuda()\n",
    "            y = y.cuda()\n",
    "            pred = model(X)\n",
    "            test_loss += loss_fn(pred, y).item()\n",
    "            correct += \\\n",
    "                (pred.argmax(1) == y.argmax(1)).type(torch.float).sum().item()\n",
    "    test_loss /= num_batches\n",
    "    correct /= size\n",
    "    print(\n",
    "        f\"Test Error: \\n Accuracy:{(100*correct):>0.1f} % , Avg loss : {test_loss:>8f} \\n\")\n"
   ]
  },
  {
   "cell_type": "code",
   "execution_count": 34,
   "metadata": {},
   "outputs": [
    {
     "data": {
      "text/plain": [
       "<All keys matched successfully>"
      ]
     },
     "execution_count": 34,
     "metadata": {},
     "output_type": "execute_result"
    }
   ],
   "source": [
    "LR = 1e-3\n",
    "EPOCHS = 10\n",
    "DEVICE = 'cuda:0' if torch.cuda.is_available else 'cpu'\n",
    "MODEL_PATH = './DogCatClassification.pt'\n",
    "\n",
    "model = DogCatClassification().cuda()\n",
    "loss_fn = nn.CrossEntropyLoss()\n",
    "optimizer = torch.optim.Adam(model.parameters(), lr=LR)\n",
    "# torch.save(model.state_dict(), PATH)\n",
    "model.load_state_dict(torch.load(MODEL_PATH))\n"
   ]
  },
  {
   "cell_type": "code",
   "execution_count": 35,
   "metadata": {},
   "outputs": [
    {
     "name": "stdout",
     "output_type": "stream",
     "text": [
      ">>>>>> Model Test Beginning......\n",
      "Test Error: \n",
      " Accuracy:95.8 % , Avg loss : 0.126072 \n",
      "\n"
     ]
    }
   ],
   "source": [
    "test(model, loss_fn,test_loader)"
   ]
  }
 ],
 "metadata": {
  "kernelspec": {
   "display_name": "Python 3",
   "language": "python",
   "name": "python3"
  },
  "language_info": {
   "codemirror_mode": {
    "name": "ipython",
    "version": 3
   },
   "file_extension": ".py",
   "mimetype": "text/x-python",
   "name": "python",
   "nbconvert_exporter": "python",
   "pygments_lexer": "ipython3",
   "version": "3.10.6"
  },
  "orig_nbformat": 4
 },
 "nbformat": 4,
 "nbformat_minor": 2
}
