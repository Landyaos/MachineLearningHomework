{
 "cells": [
  {
   "cell_type": "code",
   "execution_count": 3,
   "metadata": {},
   "outputs": [],
   "source": [
    "import torch\n",
    "import torch.nn as nn\n",
    "import numpy as np\n",
    "import torch.nn.functional as F\n",
    "from torch.utils.data import DataLoader, Dataset\n",
    "device = torch.device('cuda' if torch.cuda.is_available() else 'cpu')"
   ]
  },
  {
   "cell_type": "code",
   "execution_count": 4,
   "metadata": {},
   "outputs": [],
   "source": [
    "DATA_PATH = 'data/POEM/tang.npz'\n",
    "BATCH_SIZE = 128\n",
    "NUM_WORKERS = 2\n",
    "LR = 5e-3\n",
    "EMBEDDING_DIM = 128\n",
    "HIDDEN_DIM = 256\n",
    "EPOCHS = 10\n",
    "VERBOSE = True\n",
    " "
   ]
  },
  {
   "cell_type": "code",
   "execution_count": 5,
   "metadata": {},
   "outputs": [],
   "source": [
    "def prepareData():\n",
    "    datas = np.load('data/POEM/tang.npz',allow_pickle=True)\n",
    "    data = datas['data']\n",
    "    ix2word = datas['ix2word'].item()\n",
    "    word2ix = datas['word2ix'].item()\n",
    "    data = torch.from_numpy(data)\n",
    "    dataloader = DataLoader(data,\n",
    "                            batch_size=BATCH_SIZE,\n",
    "                            shuffle=True,\n",
    "                            num_workers=NUM_WORKERS)\n",
    "    return dataloader, ix2word, word2ix,datas\n",
    "\n",
    "dataloader, ix2word, word2ix, datas = prepareData()\n"
   ]
  },
  {
   "cell_type": "code",
   "execution_count": 6,
   "metadata": {},
   "outputs": [
    {
     "data": {
      "text/plain": [
       "8293"
      ]
     },
     "execution_count": 6,
     "metadata": {},
     "output_type": "execute_result"
    }
   ],
   "source": [
    "len(word2ix)"
   ]
  },
  {
   "cell_type": "code",
   "execution_count": 7,
   "metadata": {},
   "outputs": [],
   "source": [
    "class PoetryModel(nn.Module):\n",
    "    def __init__(self, vocab_size, embedding_dim, hidden_dim) -> None:\n",
    "        super().__init__()\n",
    "        self.hidden_dim = hidden_dim\n",
    "        self.embeddings = nn.Embedding(vocab_size, embedding_dim)\n",
    "        self.lstm = nn.LSTM(embedding_dim, self.hidden_dim, num_layers=1, batch_first=True)\n",
    "        self.linear = nn.Linear(self.hidden_dim, vocab_size)\n",
    "\n",
    "    def forward(self, input, hidden=None):\n",
    "        embeds = self.embeddings(input)\n",
    "        batch_size, seq_len = input.size()\n",
    "        if hidden is None:\n",
    "            h_0 = input.data.new(\n",
    "                1, batch_size, self.hidden_dim).fill_(0).float()\n",
    "            c_0 = input.data.new(\n",
    "                1, batch_size, self.hidden_dim).fill_(0).float()\n",
    "        else:\n",
    "            h_0, c_0 = hidden\n",
    "\n",
    "        output, hidden = self.lstm(embeds, (h_0, c_0))\n",
    "        output = output.reshape(batch_size * seq_len, self.hidden_dim)\n",
    "        output = self.linear(output)\n",
    "        return output, hidden\n"
   ]
  },
  {
   "cell_type": "code",
   "execution_count": 8,
   "metadata": {},
   "outputs": [],
   "source": [
    "def train(model, optimizer, criterion, dataloader):\n",
    "    model.train()\n",
    "    print(\">>>>>> Model Train Begin......\")\n",
    "    for epoch_idx in range(EPOCHS):\n",
    "        epoch_loss = 0\n",
    "        print(f\"Epoch {epoch_idx}\\n-------------------------------\")\n",
    "        for batch_idx, batch_data in enumerate(dataloader):\n",
    "            batch_data = batch_data.to(device)\n",
    "            input, target = batch_data[:, :-\n",
    "                                       1], batch_data[:, 1:].reshape(-1).long()\n",
    "            output, _ = model(input)\n",
    "            loss = criterion(output, target)\n",
    "            epoch_loss += loss\n",
    "\n",
    "            optimizer.zero_grad()\n",
    "            loss.backward()\n",
    "            optimizer.step()\n",
    "            if (batch_idx+1) % 200 == 0:\n",
    "                print(\n",
    "                    f'[{batch_idx * len(batch_data[1])}/{len(dataloader.dataset)} \\\n",
    "                      ({100. * batch_idx / len(dataloader):.0f}%)]\\t \\\n",
    "                      loss: {loss.item():.6f}')\n",
    "        print(f'Epoch {epoch_idx}\\tloss= {epoch_loss/len(dataloader):.6f}')\n",
    "    print(\">>>>>> Model Train End.\")\n"
   ]
  },
  {
   "cell_type": "code",
   "execution_count": 9,
   "metadata": {},
   "outputs": [],
   "source": [
    "def generate(model, start_words, ix2word, word2ix, max_gen_len):\n",
    "    results = list(start_words)\n",
    "    start_words_len = len(start_words)\n",
    "    #\n",
    "    input = torch.Tensor([word2ix['<START>']]).view(1,1).long().to(device)\n",
    "    hidden = None\n",
    "    model.eval()\n",
    "    with torch.no_grad():\n",
    "        for i in range(max_gen_len):\n",
    "            output, hidden = model(input, hidden)\n",
    "            if i < start_words_len:\n",
    "                w = results[i]\n",
    "                input = input.data.new([word2ix[w]]).view(1,1)\n",
    "            else:\n",
    "                top_index = output.data[0].topk(1)[1][0].item()\n",
    "                w = ix2word[top_index]\n",
    "                results.append(w)\n",
    "                input = input.data.new([top_index]).view(1,1)\n",
    "            if w == '<EOP>':\n",
    "                del results[-1]\n",
    "                break\n",
    "    return results"
   ]
  },
  {
   "cell_type": "code",
   "execution_count": 10,
   "metadata": {},
   "outputs": [
    {
     "data": {
      "text/plain": [
       "<All keys matched successfully>"
      ]
     },
     "execution_count": 10,
     "metadata": {},
     "output_type": "execute_result"
    }
   ],
   "source": [
    "PATH = './AutomaticWritingPoems.pt'\n",
    "model = PoetryModel(len(word2ix),EMBEDDING_DIM, HIDDEN_DIM).to(device=device)\n",
    "optimizer = torch.optim.Adam(model.parameters(), lr=LR)\n",
    "criterion = nn.CrossEntropyLoss()\n",
    "# train(model, optimizer, criterion, dataloader)\n",
    "# torch.save(model.state_dict(), PATH)\n",
    "model.load_state_dict(torch.load(PATH))\n"
   ]
  },
  {
   "cell_type": "code",
   "execution_count": 31,
   "metadata": {},
   "outputs": [
    {
     "name": "stdout",
     "output_type": "stream",
     "text": [
      "白 日 依 山 尽 ， \n",
      "青 山 万 里 赊 。 \n",
      "山 川 无 一 事 ， \n",
      "江 水 有 归 期 。 \n",
      "白 日 无 人 识 ， \n"
     ]
    }
   ],
   "source": [
    "for i in generate(model,\"白日依山尽\",ix2word,word2ix,30):\n",
    "    print(i,end=\" \")\n",
    "    if i == '，' or i == '。':\n",
    "        print()\n",
    "    \n"
   ]
  },
  {
   "cell_type": "code",
   "execution_count": null,
   "metadata": {},
   "outputs": [],
   "source": []
  }
 ],
 "metadata": {
  "kernelspec": {
   "display_name": "Python 3",
   "language": "python",
   "name": "python3"
  },
  "language_info": {
   "codemirror_mode": {
    "name": "ipython",
    "version": 3
   },
   "file_extension": ".py",
   "mimetype": "text/x-python",
   "name": "python",
   "nbconvert_exporter": "python",
   "pygments_lexer": "ipython3",
   "version": "3.10.6"
  },
  "orig_nbformat": 4
 },
 "nbformat": 4,
 "nbformat_minor": 2
}
